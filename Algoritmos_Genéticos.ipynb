{
  "nbformat": 4,
  "nbformat_minor": 0,
  "metadata": {
    "colab": {
      "provenance": []
    },
    "kernelspec": {
      "name": "python3",
      "display_name": "Python 3"
    },
    "language_info": {
      "name": "python"
    }
  },
  "cells": [
    {
      "cell_type": "markdown",
      "source": [
        "# Trabalho de Algoritmos Genéticos\n",
        "\n",
        "Nome: Ricardo Coutinho Cordeiro\n",
        "\n",
        "Professor: Ulisses Brisolara Corrêa\n"
      ],
      "metadata": {
        "id": "WM-o6I3c775G"
      }
    },
    {
      "cell_type": "markdown",
      "source": [
        "# DEAP Introdução\n",
        "---\n",
        "![image](https://deap.readthedocs.io/en/master/_images/deap_long.png)"
      ],
      "metadata": {
        "id": "FMi0EhVOwP5Z"
      }
    },
    {
      "cell_type": "markdown",
      "source": [
        "* Distributed Evolutionary Algorithm in Python  is a evolutionary computation framework for rapid prototyping and testing of ideas.\n",
        "\n",
        "* [DEAP](https://github.com/DEAP/deap) (Distributed Evolutionary Algorithm in Python) é um framework de computação evolutiva para prototipagem rápida e teste de ideias."
      ],
      "metadata": {
        "id": "pprT5JITonWu"
      }
    },
    {
      "cell_type": "markdown",
      "source": [
        "## Material Teórico Algoritmos Genéticos"
      ],
      "metadata": {
        "id": "kU87dqEyNnWu"
      }
    },
    {
      "cell_type": "markdown",
      "source": [
        "* Youtube: [Genetic Algorithms by Example](https://www.youtube.com/watch?v=uQj5UNhCPuo)\n",
        "\n",
        "* Medium: [Genetic Algorithms From Theory to Practice](https://medium.com/@atbender/from-theory-to-practice-designing-genetic-algorithms-to-solve-complex-optimization-problems-cbb2ae44296)\n",
        "\n",
        "* Book: [Introduction to Genetic Algorithms -- Melanie Mitchell](https://www.boente.eti.br/fuzzy/ebook-fuzzy-mitchell.pdf)\n"
      ],
      "metadata": {
        "id": "xZ_yUDzTNySr"
      }
    },
    {
      "cell_type": "markdown",
      "source": [
        "## Instalando DEAP"
      ],
      "metadata": {
        "id": "3Oyn_6YfwL4V"
      }
    },
    {
      "cell_type": "code",
      "execution_count": null,
      "metadata": {
        "colab": {
          "base_uri": "https://localhost:8080/"
        },
        "id": "e2b_F9SYlWjG",
        "outputId": "c58f7892-5e74-49de-839d-68db89569550"
      },
      "outputs": [
        {
          "output_type": "stream",
          "name": "stdout",
          "text": [
            "Requirement already satisfied: deap in /usr/local/lib/python3.10/dist-packages (1.4.1)\n",
            "Requirement already satisfied: numpy in /usr/local/lib/python3.10/dist-packages (from deap) (1.25.2)\n"
          ]
        }
      ],
      "source": [
        "!pip install deap"
      ]
    },
    {
      "cell_type": "code",
      "source": [
        "import warnings\n",
        "\n",
        "# Estamos suprimindo um warning do DEAP que pode dificultar a visualização dos resultados\n",
        "warnings.filterwarnings(\"ignore\", category=RuntimeWarning)"
      ],
      "metadata": {
        "id": "tZJoSouPfuLT"
      },
      "execution_count": null,
      "outputs": []
    },
    {
      "cell_type": "markdown",
      "source": [
        "## Fitness"
      ],
      "metadata": {
        "id": "jEQb0eQopZ3F"
      }
    },
    {
      "cell_type": "markdown",
      "source": [
        "* Para definir funções de fitness, usamos `creator.create()`.\n",
        "\n",
        "* A função `create()` recebe três argumentos: um nome para a nova classe criada, uma classe base e o atributo de pesos.\n",
        "\n",
        "* A classe de fitness requer um parâmetro de pesos, que descreve os objetivos.\n",
        "\n",
        "* O atributo de pesos deve ser uma tupla para que fitness de múltiplos objetivos e de objetivo único possam ser tratadas da mesma maneira.\n",
        "\n",
        "* Abaixo, definimos uma função de maximização de objetivo único:\n",
        "\n",
        "* Observe que tuplas de um único elemento em Python são definidas com uma vírgula no final."
      ],
      "metadata": {
        "id": "fxnF-BfVqtr9"
      }
    },
    {
      "cell_type": "code",
      "source": [
        "from deap import base, creator\n",
        "\n",
        "creator.create(\"Fitness\", base.Fitness, weights=(1.0,))"
      ],
      "metadata": {
        "id": "F67Vk7zzqlGL"
      },
      "execution_count": null,
      "outputs": []
    },
    {
      "cell_type": "markdown",
      "source": [
        "* Uma fitness de minimização é construída usando pesos negativos, enquanto uma fitness de maximização tem pesos positivos.\n",
        "\n",
        "* Podemos facilmente definir uma função de aptidão que maximize o primeiro objetivo e minimize o segundo."
      ],
      "metadata": {
        "id": "QXTqf0Phsp7e"
      }
    },
    {
      "cell_type": "code",
      "source": [
        "creator.create(\"FitnessMulti\", base.Fitness, weights=(1.0, -1.0))"
      ],
      "metadata": {
        "id": "txymYSYTqn26"
      },
      "execution_count": null,
      "outputs": []
    },
    {
      "cell_type": "markdown",
      "source": [
        "* Os pesos podem ser usados para variar a importância de cada objetivo em relação aos outros."
      ],
      "metadata": {
        "id": "ybmku_d6u196"
      }
    },
    {
      "cell_type": "code",
      "source": [
        "creator.create(\"FitnessMulti\", base.Fitness, weights=(1.0, -2.0, 0.4, 1000.0))"
      ],
      "metadata": {
        "id": "_sG1WdPeugZZ"
      },
      "execution_count": null,
      "outputs": []
    },
    {
      "cell_type": "markdown",
      "source": [
        "## Indivíduo"
      ],
      "metadata": {
        "id": "4PMcnODawJB-"
      }
    },
    {
      "cell_type": "markdown",
      "source": [
        "* A forma como os indivíduos são definidos impacta fortemente um algoritmo genético.\n",
        "\n",
        "* Indivíduos podem ser criados usando o `creator` e inicializados usando uma `Toolbox`.\n",
        "\n",
        "* Vamos definir um indivíduo com 10 atributos de ponto flutuante e inicializá-lo aleatoriamente."
      ],
      "metadata": {
        "id": "vHoSxwLCwkYt"
      }
    },
    {
      "cell_type": "code",
      "source": [
        "import random\n",
        "\n",
        "from deap import tools\n",
        "\n",
        "creator.create(\"FitnessMax\", base.Fitness, weights=(-1.0,))\n",
        "creator.create(\"Individual\", list, fitness=creator.FitnessMax)\n",
        "\n",
        "INDIVIDUAL_SIZE=10\n",
        "\n",
        "toolbox = base.Toolbox()\n",
        "toolbox.register(\"attr_float\", random.random)\n",
        "toolbox.register(\"individual\",\n",
        "                 tools.initRepeat,\n",
        "                 creator.Individual,\n",
        "                 toolbox.attr_float,\n",
        "                 n=INDIVIDUAL_SIZE)\n",
        "\n",
        "toolbox.individual()"
      ],
      "metadata": {
        "colab": {
          "base_uri": "https://localhost:8080/"
        },
        "id": "OJMaj8KVpX1s",
        "outputId": "599f22f7-540d-4218-cc19-566a53880065"
      },
      "execution_count": null,
      "outputs": [
        {
          "output_type": "execute_result",
          "data": {
            "text/plain": [
              "[0.020719735069811063,\n",
              " 0.3539270330686901,\n",
              " 0.5832933760745663,\n",
              " 0.7959021342474155,\n",
              " 0.7822780230991263,\n",
              " 0.20761827489062423,\n",
              " 0.6684126617329141,\n",
              " 0.39033273145886993,\n",
              " 0.5640215463524084,\n",
              " 0.027992849443117862]"
            ]
          },
          "metadata": {},
          "execution_count": 42
        }
      ]
    },
    {
      "cell_type": "markdown",
      "source": [
        "* Da mesma forma, podemos alterar a função `random` para criar um indivíduo de permutação."
      ],
      "metadata": {
        "id": "yuWVrSjA-FUY"
      }
    },
    {
      "cell_type": "code",
      "source": [
        "creator.create(\"FitnessMin\", base.Fitness, weights=(-1.0,))\n",
        "creator.create(\"Individual\", list, fitness=creator.FitnessMin)\n",
        "\n",
        "IND_SIZE=10\n",
        "\n",
        "toolbox = base.Toolbox()\n",
        "toolbox.register(\"indices\", random.sample, range(IND_SIZE), IND_SIZE)\n",
        "toolbox.register(\"individual_sample\",\n",
        "                 tools.initIterate,\n",
        "                 creator.Individual,\n",
        "                 toolbox.indices)\n",
        "\n",
        "toolbox.individual_sample()"
      ],
      "metadata": {
        "colab": {
          "base_uri": "https://localhost:8080/"
        },
        "id": "lzVySa2f94PC",
        "outputId": "8750cf28-f049-46c4-9187-4c71fe0196b8"
      },
      "execution_count": null,
      "outputs": [
        {
          "output_type": "execute_result",
          "data": {
            "text/plain": [
              "[7, 9, 5, 8, 4, 6, 3, 2, 0, 1]"
            ]
          },
          "metadata": {},
          "execution_count": 43
        }
      ]
    },
    {
      "cell_type": "markdown",
      "source": [
        "## População"
      ],
      "metadata": {
        "id": "hvdtGD9r--Fg"
      }
    },
    {
      "cell_type": "markdown",
      "source": [
        "* Populações são coleções de indivíduos."
      ],
      "metadata": {
        "id": "ZdPpjOfH_LVC"
      }
    },
    {
      "cell_type": "code",
      "source": [
        "toolbox.register(\"population\", tools.initRepeat, list, toolbox.individual_sample)\n",
        "toolbox.population(n=5)"
      ],
      "metadata": {
        "colab": {
          "base_uri": "https://localhost:8080/"
        },
        "id": "t0sDPdQm_O1x",
        "outputId": "9ad39bb6-8ba1-4c66-de27-f02890727199"
      },
      "execution_count": null,
      "outputs": [
        {
          "output_type": "execute_result",
          "data": {
            "text/plain": [
              "[[5, 4, 9, 0, 6, 7, 2, 8, 1, 3],\n",
              " [3, 5, 7, 2, 8, 0, 9, 4, 6, 1],\n",
              " [9, 2, 5, 4, 8, 7, 0, 3, 1, 6],\n",
              " [1, 0, 3, 6, 4, 5, 7, 2, 8, 9],\n",
              " [9, 0, 3, 4, 6, 2, 8, 7, 1, 5]]"
            ]
          },
          "metadata": {},
          "execution_count": 44
        }
      ]
    },
    {
      "cell_type": "markdown",
      "source": [
        "* Outros tipos notáveis de população incluem [Grade](https://deap.readthedocs.io/en/master/tutorials/basic/part1.html#grid), [Enxame](https://deap.readthedocs.io/en/master/tutorials/basic/part1.html#swarm) e [Demes](https://deap.readthedocs.io/en/master/tutorials/basic/part1.html#demes)."
      ],
      "metadata": {
        "id": "-qm_7etn_x86"
      }
    },
    {
      "cell_type": "markdown",
      "source": [
        "## Avaliação"
      ],
      "metadata": {
        "id": "UslKejisC-R3"
      }
    },
    {
      "cell_type": "markdown",
      "source": [
        "![image](https://www.researchgate.net/publication/316514846/figure/fig1/AS:487714714853376@1493291657451/Genetic-Algorithm-Evaluation-Flow.png)"
      ],
      "metadata": {
        "id": "cqOv-aVec6TD"
      }
    },
    {
      "cell_type": "markdown",
      "source": [
        "* Ao inspecionar a avaliação de aptidão dos nossos indivíduos, podemos ver que sua avaliação permanece indefinida até que a alteremos."
      ],
      "metadata": {
        "id": "_AByoz_yC_nW"
      }
    },
    {
      "cell_type": "code",
      "source": [
        "creator.create(\"FitnessMax\", base.Fitness, weights=(1.0,))\n",
        "creator.create(\"Individual\", list, fitness=creator.FitnessMax)\n",
        "\n",
        "INDIVIDUAL_SIZE=10\n",
        "\n",
        "toolbox = base.Toolbox()\n",
        "toolbox.register(\"attr_float\", random.random)\n",
        "toolbox.register(\"individual\",\n",
        "                 tools.initRepeat,\n",
        "                 creator.Individual,\n",
        "                 toolbox.attr_float,\n",
        "                 n=INDIVIDUAL_SIZE)\n",
        "\n",
        "individual = toolbox.individual()\n",
        "\n",
        "print(individual)\n",
        "print(individual.fitness.valid)\n",
        "print(individual.fitness.values)"
      ],
      "metadata": {
        "colab": {
          "base_uri": "https://localhost:8080/"
        },
        "id": "rXgTEcXgCvB9",
        "outputId": "9b77673a-0190-430e-8a96-d002ab3d4ace"
      },
      "execution_count": null,
      "outputs": [
        {
          "output_type": "stream",
          "name": "stdout",
          "text": [
            "[0.5357466461024055, 0.005771689652432799, 0.3173163494947938, 0.7872192033390001, 0.13982419594261042, 0.6455659392200838, 0.8050088380869707, 0.0173234807931244, 0.7279149040896665, 0.485864188962952]\n",
            "False\n",
            "()\n"
          ]
        }
      ]
    },
    {
      "cell_type": "markdown",
      "source": [
        "* Aqui vamos criar uma avaliação que é simplesmente a soma de todos os atributos do indivíduo.\n",
        "\n",
        "* Lembre-se de que a avaliação de aptidão dos indivíduos precisa ser uma tupla pelos mesmos motivos discutidos anteriormente."
      ],
      "metadata": {
        "id": "YubS3Hi6G45K"
      }
    },
    {
      "cell_type": "code",
      "source": [
        "def evaluate(individual):\n",
        "    return (sum(individual),)\n",
        "\n",
        "individual.fitness.values = evaluate(individual)\n",
        "\n",
        "print(individual.fitness.valid)\n",
        "print(individual.fitness)"
      ],
      "metadata": {
        "colab": {
          "base_uri": "https://localhost:8080/"
        },
        "id": "98PAr97pED8o",
        "outputId": "b45d0aa6-0309-4e22-eff5-dc04f1fd6100"
      },
      "execution_count": null,
      "outputs": [
        {
          "output_type": "stream",
          "name": "stdout",
          "text": [
            "True\n",
            "(4.467555435684041,)\n"
          ]
        }
      ]
    },
    {
      "cell_type": "markdown",
      "source": [
        "## Mutação"
      ],
      "metadata": {
        "id": "Vd04mfFCHXG4"
      }
    },
    {
      "cell_type": "markdown",
      "source": [
        "![image](https://www.researchgate.net/publication/272093243/figure/fig8/AS:329956690284546@1455679213204/Mutation-operators-applied-to-chromosomes-in-the-proposed-genetic-algorithm.png)"
      ],
      "metadata": {
        "id": "fOR1xaeYdcMC"
      }
    },
    {
      "cell_type": "markdown",
      "source": [
        "* Existem diversos operadores de mutação no módulo `deap.tools`.\n",
        "\n",
        "* A regra geral para operadores de mutação é que eles apenas mutam.\n",
        "\n",
        "* Uma cópia independente deve ser feita antes de mutar o indivíduo original se o indivíduo original precisar ser mantido.\n",
        "\n",
        "* Para aplicar uma mutação (aqui uma mutação gaussiana), simplesmente utilize a função desejada."
      ],
      "metadata": {
        "id": "B3xIp-gFJsV4"
      }
    },
    {
      "cell_type": "code",
      "source": [
        "mutant = toolbox.clone(individual)\n",
        "mutant, = tools.mutGaussian(mutant, mu=0.0, sigma=0.2, indpb=0.2)\n",
        "\n",
        "del mutant.fitness.values\n",
        "\n",
        "print(individual)\n",
        "print(mutant)"
      ],
      "metadata": {
        "colab": {
          "base_uri": "https://localhost:8080/"
        },
        "id": "0WHzZC2KKE8b",
        "outputId": "236260a6-63e5-4c93-ff09-dd2ebd3406f4"
      },
      "execution_count": null,
      "outputs": [
        {
          "output_type": "stream",
          "name": "stdout",
          "text": [
            "[0.5357466461024055, 0.005771689652432799, 0.3173163494947938, 0.7872192033390001, 0.13982419594261042, 0.6455659392200838, 0.8050088380869707, 0.0173234807931244, 0.7279149040896665, 0.485864188962952]\n",
            "[0.34369588514225735, 0.005771689652432799, 0.283906343010747, 0.7872192033390001, 0.06469076152504585, 0.6455659392200838, 0.8050088380869707, 0.0173234807931244, 0.7279149040896665, 0.485864188962952]\n"
          ]
        }
      ]
    },
    {
      "cell_type": "markdown",
      "source": [
        "* Os valores de aptidão são deletados porque não estão mais relacionados ao indivíduo.\n",
        "\n",
        "* A mutação não é responsável por invalidar a aptidão."
      ],
      "metadata": {
        "id": "Cx6tfZ5yKiAG"
      }
    },
    {
      "cell_type": "markdown",
      "source": [
        "## Crossover"
      ],
      "metadata": {
        "id": "nqA4Lme9K2I6"
      }
    },
    {
      "cell_type": "markdown",
      "source": [
        "![image](https://d3i71xaburhd42.cloudfront.net/73a50124700c7b2e44e3a72a298f6279a8b54ac3/13-Figure2-1.png)"
      ],
      "metadata": {
        "id": "lfh_Bhkadog9"
      }
    },
    {
      "cell_type": "markdown",
      "source": [
        "* Existem diversos operadores de crossover na [documentação](https://deap.readthedocs.io/en/master/api/tools.html#module-deap.tools).\n",
        "\n",
        "* A regra geral para operadores de crossover é que eles apenas cruzam indivíduos.\n",
        "\n",
        "* Cópias independentes devem ser feitas antes de cruzar os indivíduos originais se os indivíduos originais precisarem ser mantidos.\n",
        "\n",
        "* Abaixo aplicamos uma operação de crossover para produzir os dois filhos que são clonados antecipadamente."
      ],
      "metadata": {
        "id": "F5Odr9XxLpZH"
      }
    },
    {
      "cell_type": "code",
      "source": [
        "individual1, individual2 = toolbox.individual(), toolbox.individual()\n",
        "\n",
        "print(individual1)\n",
        "print(individual2)\n",
        "\n",
        "child1, child2 = [toolbox.clone(ind) for ind in (individual1, individual2)]\n",
        "tools.cxOnePoint(child1, child2)\n",
        "\n",
        "del child1.fitness.values\n",
        "del child2.fitness.values\n",
        "\n",
        "print(child1)\n",
        "print(child2)"
      ],
      "metadata": {
        "colab": {
          "base_uri": "https://localhost:8080/"
        },
        "id": "EXxoV3pDJefy",
        "outputId": "d0519d3c-6381-4249-ac2c-3d4e1dce4880"
      },
      "execution_count": null,
      "outputs": [
        {
          "output_type": "stream",
          "name": "stdout",
          "text": [
            "[0.2345957983984428, 0.4494991368308183, 0.89555209491506, 0.5643579461966951, 0.13959540033013895, 0.7306582419289464, 0.5910691551671619, 0.6943694970573765, 0.6163287095960853, 0.28337202052765975]\n",
            "[0.6782373627203023, 0.20970318602524118, 0.30271800277662264, 0.9223807039418853, 0.9466561622405556, 0.1581796766702951, 0.08808065803974485, 0.7492874147840807, 0.1424334874804658, 0.7603983090705019]\n",
            "[0.2345957983984428, 0.4494991368308183, 0.89555209491506, 0.5643579461966951, 0.13959540033013895, 0.1581796766702951, 0.08808065803974485, 0.7492874147840807, 0.1424334874804658, 0.7603983090705019]\n",
            "[0.6782373627203023, 0.20970318602524118, 0.30271800277662264, 0.9223807039418853, 0.9466561622405556, 0.7306582419289464, 0.5910691551671619, 0.6943694970573765, 0.6163287095960853, 0.28337202052765975]\n"
          ]
        }
      ]
    },
    {
      "cell_type": "markdown",
      "source": [
        "## Seleção"
      ],
      "metadata": {
        "id": "VF-rTqnHMdat"
      }
    },
    {
      "cell_type": "markdown",
      "source": [
        "![image](https://miro.medium.com/v2/resize:fit:720/format:webp/1*Vxs3KzHbOpyEREA2Vo0WVA.jpeg)"
      ],
      "metadata": {
        "id": "WyM1y76zel6j"
      }
    },
    {
      "cell_type": "markdown",
      "source": [
        "* A seleção é feita entre uma população.\n",
        "\n",
        "* Vários operadores de seleção estão disponíveis no módulo `deap.tools`.\n",
        "\n",
        "* Ele retorna uma lista contendo as referências para os indivíduos selecionados."
      ],
      "metadata": {
        "id": "IzZzppF7NMnZ"
      }
    },
    {
      "cell_type": "code",
      "source": [
        "selected = tools.selBest([child1, child2], 1)\n",
        "print(child1 in selected)\n",
        "print(child2 in selected)"
      ],
      "metadata": {
        "colab": {
          "base_uri": "https://localhost:8080/"
        },
        "id": "g31v01BVMfiz",
        "outputId": "3a4e10af-7d19-4115-d717-8e7c4cebee0c"
      },
      "execution_count": null,
      "outputs": [
        {
          "output_type": "stream",
          "name": "stdout",
          "text": [
            "True\n",
            "False\n"
          ]
        }
      ]
    },
    {
      "cell_type": "markdown",
      "source": [
        "* Normalmente, uma duplicação da população inteira é feita após a seleção."
      ],
      "metadata": {
        "id": "GK6LZTl-N5lR"
      }
    },
    {
      "cell_type": "code",
      "source": [
        "offspring = [toolbox.clone(ind) for ind in selected]"
      ],
      "metadata": {
        "id": "S6oaSjjgOBh2"
      },
      "execution_count": null,
      "outputs": []
    },
    {
      "cell_type": "markdown",
      "source": [
        "## Toolbox and Algorithms"
      ],
      "metadata": {
        "id": "-pBxvN3XJnn_"
      }
    },
    {
      "cell_type": "markdown",
      "source": [
        "* Definindo objetivo e indivíduos:"
      ],
      "metadata": {
        "id": "v_LYoa1IQuHG"
      }
    },
    {
      "cell_type": "code",
      "source": [
        "creator.create(\"FitnessMax\", base.Fitness, weights=(-1.0,))\n",
        "creator.create(\"Individual\", list, fitness=creator.FitnessMax)\n",
        "\n",
        "INDIVIDUAL_SIZE = 10\n",
        "\n",
        "toolbox = base.Toolbox()\n",
        "\n",
        "toolbox.register(\"attr_float\", random.random)\n",
        "toolbox.register(\"individual\",\n",
        "                 tools.initRepeat,\n",
        "                 creator.Individual,\n",
        "                 toolbox.attr_float,\n",
        "                 n=INDIVIDUAL_SIZE)"
      ],
      "metadata": {
        "id": "7mAzrIcAMvo7"
      },
      "execution_count": null,
      "outputs": []
    },
    {
      "cell_type": "markdown",
      "source": [
        "* Definindo avaliação e registrando operadores genéticos:"
      ],
      "metadata": {
        "id": "RP8VdfykQ09H"
      }
    },
    {
      "cell_type": "code",
      "source": [
        "def evaluateInd(individual):\n",
        "    return (sum(individual),)\n",
        "\n",
        "toolbox.register(\"mate\", tools.cxTwoPoint)\n",
        "toolbox.register(\"mutate\", tools.mutGaussian, mu=1, sigma=1, indpb=0.2)\n",
        "toolbox.register(\"select\", tools.selTournament, tournsize=3)\n",
        "toolbox.register(\"evaluate\", evaluateInd)\n",
        "\n",
        "toolbox.register(\"population\", tools.initRepeat, list, toolbox.individual)"
      ],
      "metadata": {
        "id": "YOhTnuOWOE_n"
      },
      "execution_count": null,
      "outputs": []
    },
    {
      "cell_type": "markdown",
      "source": [
        "* Loop básico do algoritmo genético:"
      ],
      "metadata": {
        "id": "68aZmoU-Q58O"
      }
    },
    {
      "cell_type": "code",
      "source": [
        "GENERATION_AMOUNT = 10\n",
        "CROSSOVER_PROBABILITY = 0.5\n",
        "MUTATION_PROBABILITY = 0.02\n",
        "\n",
        "pop = toolbox.population(n=300)\n",
        "\n",
        "for g in range(GENERATION_AMOUNT):\n",
        "    offspring = toolbox.select(pop, len(pop))\n",
        "\n",
        "    offspring = list(map(toolbox.clone, offspring))\n",
        "\n",
        "    for child1, child2 in zip(offspring[::2], offspring[1::2]):\n",
        "        if random.random() < CROSSOVER_PROBABILITY:\n",
        "            toolbox.mate(child1, child2)\n",
        "            del child1.fitness.values\n",
        "            del child2.fitness.values\n",
        "\n",
        "    for mutant in offspring:\n",
        "        if random.random() < MUTATION_PROBABILITY:\n",
        "            toolbox.mutate(mutant)\n",
        "            del mutant.fitness.values\n",
        "            f = toolbox.evaluate(mutant)[0]\n",
        "            if f < 0:\n",
        "                print(f'Negativou {f}, {mutant}')\n",
        "\n",
        "    invalid_ind = [ind for ind in offspring if not ind.fitness.valid]\n",
        "    fitnesses = list(toolbox.map(toolbox.evaluate, invalid_ind))\n",
        "    for ind, fit in zip(invalid_ind, fitnesses):\n",
        "        ind.fitness.values = fit\n",
        "\n",
        "    fitnesses_values = list(map(lambda x: x[0], fitnesses))\n",
        "    generation_average_fitness = sum(fitnesses_values) / len(fitnesses_values)\n",
        "    print(f\"Generation fitness: {generation_average_fitness:6.5f}\")\n",
        "\n",
        "    pop[:] = offspring"
      ],
      "metadata": {
        "id": "afuQoCFDhrcC",
        "colab": {
          "base_uri": "https://localhost:8080/"
        },
        "outputId": "f6645fc6-cf74-4a31-b6a6-2ecfe339d071"
      },
      "execution_count": null,
      "outputs": [
        {
          "output_type": "stream",
          "name": "stdout",
          "text": [
            "Generation fitness: 5.20342\n",
            "Generation fitness: 4.57052\n",
            "Generation fitness: 3.89229\n",
            "Generation fitness: 3.45673\n",
            "Generation fitness: 3.04619\n",
            "Generation fitness: 2.61957\n",
            "Generation fitness: 2.24793\n",
            "Generation fitness: 1.77192\n",
            "Generation fitness: 1.49513\n",
            "Generation fitness: 1.18092\n"
          ]
        }
      ]
    },
    {
      "cell_type": "markdown",
      "source": [
        "* Uma variação disso é usar `algorithms.varAnd`, que abstrai os operadores de variabilidade:"
      ],
      "metadata": {
        "id": "CjpzvmYhRryU"
      }
    },
    {
      "cell_type": "code",
      "source": [
        "from deap import algorithms\n",
        "\n",
        "GENERATION_AMOUNT = 10\n",
        "CROSSOVER_PROBABILITY = 0.5\n",
        "MUTATION_PROBABILITY = 0.02\n",
        "\n",
        "pop = toolbox.population(n=300)\n",
        "\n",
        "for g in range(GENERATION_AMOUNT):\n",
        "    offspring = map(toolbox.clone, toolbox.select(pop, len(pop)))\n",
        "\n",
        "    offspring = algorithms.varAnd(offspring,\n",
        "                                  toolbox,\n",
        "                                  CROSSOVER_PROBABILITY,\n",
        "                                  MUTATION_PROBABILITY)\n",
        "\n",
        "    invalid_ind = [ind for ind in offspring if not ind.fitness.valid]\n",
        "    fitnesses = list(toolbox.map(toolbox.evaluate, invalid_ind))\n",
        "    for ind, fit in zip(invalid_ind, fitnesses):\n",
        "        ind.fitness.values = fit\n",
        "\n",
        "    fitnesses_values = list(map(lambda x: x[0], fitnesses))\n",
        "    generation_average_fitness = sum(fitnesses_values) / len(fitnesses_values)\n",
        "    print(f\"Generation fitness: {generation_average_fitness:6.5f}\")\n",
        "\n",
        "    pop[:] = offspring"
      ],
      "metadata": {
        "id": "B_2WAaQzht02",
        "colab": {
          "base_uri": "https://localhost:8080/"
        },
        "outputId": "509d4c78-dbac-4ca6-e363-08b0cca18167"
      },
      "execution_count": null,
      "outputs": [
        {
          "output_type": "stream",
          "name": "stdout",
          "text": [
            "Generation fitness: 5.00132\n",
            "Generation fitness: 4.32221\n",
            "Generation fitness: 3.67468\n",
            "Generation fitness: 3.20838\n",
            "Generation fitness: 2.80208\n",
            "Generation fitness: 2.45866\n",
            "Generation fitness: 2.15286\n",
            "Generation fitness: 1.74674\n",
            "Generation fitness: 1.52080\n",
            "Generation fitness: 1.26152\n"
          ]
        }
      ]
    },
    {
      "cell_type": "markdown",
      "source": [
        "* Podemos simplificar ainda mais usando `algorithms.eaSimple`:"
      ],
      "metadata": {
        "id": "Uw6KxCpjSPnX"
      }
    },
    {
      "cell_type": "code",
      "source": [
        "pop = toolbox.population(n=300)\n",
        "population, logbook = algorithms.eaSimple(pop, toolbox, cxpb=0.5, mutpb=0.2, ngen=10)"
      ],
      "metadata": {
        "id": "beeEyZGBhvqx",
        "colab": {
          "base_uri": "https://localhost:8080/"
        },
        "outputId": "f42f3716-623a-49aa-a5d1-ca78df67094d"
      },
      "execution_count": null,
      "outputs": [
        {
          "output_type": "stream",
          "name": "stdout",
          "text": [
            "gen\tnevals\n",
            "0  \t300   \n",
            "1  \t169   \n",
            "2  \t176   \n",
            "3  \t178   \n",
            "4  \t189   \n",
            "5  \t188   \n",
            "6  \t197   \n",
            "7  \t197   \n",
            "8  \t181   \n",
            "9  \t188   \n",
            "10 \t177   \n"
          ]
        }
      ]
    },
    {
      "cell_type": "markdown",
      "source": [
        "* Note que tais abstrações nos dão menos liberdade para registrar a aptidão das gerações.\n",
        "\n",
        "* Neste formato, precisamos definir uma estatística e registrar métricas para salvar no logbook.\n",
        "\n",
        "* Consulte a [documentação](https://deap.readthedocs.io/en/master/_modules/deap/algorithms.html#eaSimple)."
      ],
      "metadata": {
        "id": "fjQF70opUR9j"
      }
    },
    {
      "cell_type": "code",
      "source": [
        "stats = tools.Statistics(key=lambda fits: fits[0])\n",
        "stats.register(\"avg\", lambda fits: sum(fits) / len(fits))\n",
        "\n",
        "logbook = tools.Logbook()\n",
        "\n",
        "pop = toolbox.population(n=300)\n",
        "population, logbook = algorithms.eaSimple(population, toolbox, cxpb=0.5, mutpb=0.2, ngen=10,\n",
        "                                          stats=stats, halloffame=None, verbose=True)"
      ],
      "metadata": {
        "colab": {
          "base_uri": "https://localhost:8080/"
        },
        "id": "tPLEQof6S9up",
        "outputId": "f05968c0-2458-476d-c082-62bf749538bc"
      },
      "execution_count": null,
      "outputs": [
        {
          "output_type": "stream",
          "name": "stdout",
          "text": [
            "gen\tnevals\tavg     \n",
            "0  \t0     \t0.204452\n",
            "1  \t182   \t0.217631\n",
            "2  \t191   \t0.241704\n",
            "3  \t164   \t0.223663\n",
            "4  \t168   \t0.200221\n",
            "5  \t166   \t0.185956\n",
            "6  \t192   \t0.08354 \n",
            "7  \t184   \t0.0724772\n",
            "8  \t172   \t-0.0397409\n",
            "9  \t166   \t-0.154403 \n",
            "10 \t186   \t-0.383757 \n"
          ]
        }
      ]
    },
    {
      "cell_type": "markdown",
      "source": [
        "## Exemplo de Problema Prático"
      ],
      "metadata": {
        "id": "yEjr3G76ckpi"
      }
    },
    {
      "cell_type": "markdown",
      "source": [
        "Vamos projetar um algoritmo genético para resolver uma instância do Problema do Caixeiro Viajante (Traveling Salesman Problem - TSP).\n",
        "\n",
        "As coordenadas das cidades são: (0, 0), (1, 1), (2, 0), (1, -1)."
      ],
      "metadata": {
        "id": "H8UNSW_3eEQ0"
      }
    },
    {
      "cell_type": "code",
      "source": [
        "import matplotlib.pyplot as plt\n",
        "\n",
        "cities = [(0, 0), (1, 1), (2, 0), (1, -1)]\n",
        "\n",
        "x_coords, y_coords = zip(*cities)\n",
        "\n",
        "plt.figure(figsize=(6, 6))\n",
        "plt.scatter(x_coords, y_coords, color=\"red\")\n",
        "\n",
        "for i, (x, y) in enumerate(cities):\n",
        "    plt.annotate(f\"{i}\", (x, y), textcoords=\"offset points\", xytext=(0,10), ha=\"center\")\n",
        "\n",
        "plt.xlabel(\"X Coordinate\")\n",
        "plt.ylabel(\"Y Coordinate\")\n",
        "plt.title(\"Cities for TSP\")\n",
        "\n",
        "plt.grid(True)\n",
        "plt.show()"
      ],
      "metadata": {
        "colab": {
          "base_uri": "https://localhost:8080/",
          "height": 564
        },
        "id": "Lm30E_Ofe30C",
        "outputId": "904eaf5b-b6ab-469b-bfcd-eb49eda57ba4"
      },
      "execution_count": null,
      "outputs": [
        {
          "output_type": "display_data",
          "data": {
            "text/plain": [
              "<Figure size 600x600 with 1 Axes>"
            ],
            "image/png": "[encoded data removed]"
          },
          "metadata": {}
        }
      ]
    },
    {
      "cell_type": "markdown",
      "source": [
        "Antes de ler sobre a solução, como você modelaria os atributos do indivíduo para este problema?"
      ],
      "metadata": {
        "id": "SpT-a2Qyga5x"
      }
    },
    {
      "cell_type": "markdown",
      "source": [
        "### Solução"
      ],
      "metadata": {
        "id": "cO51A0ZFgYBP"
      }
    },
    {
      "cell_type": "markdown",
      "source": [
        "* Definimos a instância do problema usando as coordenadas das cidades.\n",
        "\n",
        "* Definimos o cálculo da distância.\n",
        "\n",
        "* Projetamos a função de avaliação que itera sobre as cidades e calcula suas distâncias.\n",
        "\n",
        "* Definimos os indivíduos e os operadores genéticos. Aqui, nossos indivíduos são sequências de cidades.\n",
        "\n",
        "* Rodamos o algoritmo genético."
      ],
      "metadata": {
        "id": "psuqhydTf0J3"
      }
    },
    {
      "cell_type": "code",
      "source": [
        "import random\n",
        "import numpy as np\n",
        "from deap import base, creator, tools, algorithms\n",
        "\n",
        "cities = [(0, 0), (1, 1), (2, 0), (1, -1)]\n",
        "\n",
        "def distance(city1, city2):\n",
        "    return np.sqrt((city1[0] - city2[0])**2 + (city1[1] - city2[1])**2)\n",
        "\n",
        "def evalTSP(individual):\n",
        "    total_distance = sum(distance(cities[individual[i]], cities[individual[i + 1]]) for i in range(len(individual) - 1))\n",
        "    total_distance += distance(cities[individual[-1]], cities[individual[0]])  # Return to start\n",
        "    return (total_distance,)\n",
        "\n",
        "creator.create(\"FitnessMin\", base.Fitness, weights=(-1.0,))\n",
        "creator.create(\"Individual\", list, fitness=creator.FitnessMin)\n",
        "\n",
        "toolbox = base.Toolbox()\n",
        "toolbox.register(\"indices\", random.sample, range(len(cities)), len(cities))\n",
        "toolbox.register(\"individual\", tools.initIterate, creator.Individual, toolbox.indices)\n",
        "toolbox.register(\"population\", tools.initRepeat, list, toolbox.individual)\n",
        "\n",
        "toolbox.register(\"evaluate\", evalTSP)\n",
        "toolbox.register(\"mate\", tools.cxOrdered)\n",
        "toolbox.register(\"mutate\", tools.mutShuffleIndexes, indpb=0.05)\n",
        "toolbox.register(\"select\", tools.selTournament, tournsize=3)\n",
        "\n",
        "population = toolbox.population(n=50)\n",
        "\n",
        "algorithms.eaSimple(population, toolbox, cxpb=0.7, mutpb=0.2, ngen=100, verbose=False)\n",
        "\n",
        "best_ind = tools.selBest(population, 1)[0]\n",
        "best_route = [cities[i] for i in best_ind]\n",
        "\n",
        "print(f\"Best route is {best_route} with total distance {best_ind.fitness.values[0]}\")"
      ],
      "metadata": {
        "colab": {
          "base_uri": "https://localhost:8080/"
        },
        "id": "skKjT-61ePXI",
        "outputId": "7dab4877-a0cf-4b9b-cdf9-7a9bb1d63ce9"
      },
      "execution_count": null,
      "outputs": [
        {
          "output_type": "stream",
          "name": "stdout",
          "text": [
            "Best route is [(0, 0), (1, -1), (2, 0), (1, 1)] with total distance 5.656854249492381\n"
          ]
        }
      ]
    },
    {
      "cell_type": "markdown",
      "source": [
        "# Exercícios\n",
        "---"
      ],
      "metadata": {
        "id": "JLIVybtiWia1"
      }
    },
    {
      "cell_type": "markdown",
      "source": [
        "Abaixo você pode encontrar alguns exercícios para praticar o uso do framework."
      ],
      "metadata": {
        "id": "BVOyZ7PQZcEY"
      }
    },
    {
      "cell_type": "markdown",
      "source": [
        "## Exercício 1"
      ],
      "metadata": {
        "id": "0JkczGqtZW4J"
      }
    },
    {
      "cell_type": "markdown",
      "source": [
        "No contexto dos exemplos acima, considere o seguinte:\n",
        "* A aptidão é a soma dos atributos do indivíduo.\n",
        "* Seus atributos são instanciados por `random.random()`.\n",
        "* `random.random()` não retorna números negativos.\n",
        "\n",
        "Como as médias de aptidão das gerações podem ser valores negativos?"
      ],
      "metadata": {
        "id": "MvMltQU7ZqQu"
      }
    },
    {
      "cell_type": "code",
      "source": [
        "all([random.random() > 0 for i in range(10_000)])"
      ],
      "metadata": {
        "colab": {
          "base_uri": "https://localhost:8080/"
        },
        "id": "ASORtcJhThXQ",
        "outputId": "78580ee0-8563-4244-8458-e2b9b3d7e998"
      },
      "execution_count": null,
      "outputs": [
        {
          "output_type": "execute_result",
          "data": {
            "text/plain": [
              "True"
            ]
          },
          "metadata": {},
          "execution_count": 59
        }
      ]
    },
    {
      "cell_type": "markdown",
      "source": [
        "## Exercício 2"
      ],
      "metadata": {
        "id": "ur4KqgCBathi"
      }
    },
    {
      "cell_type": "markdown",
      "source": [
        "Crie um algoritmo genético para resolver o seguinte problema:\n",
        "\n",
        "Os indivíduos devem ser permutações dos números [0,1,2,3,4,5,6,7,8,9]. A função objetivo é contar quantos números estão na posição correta (ordem crescente)."
      ],
      "metadata": {
        "id": "29eHOkl9awLj"
      }
    },
    {
      "cell_type": "code",
      "source": [
        "# função de avaliação\n",
        "def avaliar_individuo(individuo):\n",
        "    return (sum(1 for i, val in enumerate(individuo) if i == val),)\n",
        "\n",
        "# definindo os componentes do algoritmo genético\n",
        "creator.create(\"FitnessMax\", base.Fitness, weights=(1.0,))\n",
        "creator.create(\"Individuo\", list, fitness=creator.FitnessMax)\n",
        "\n",
        "toolbox = base.Toolbox()\n",
        "toolbox.register(\"indices\", random.sample, range(10), 10)\n",
        "toolbox.register(\"individuo\", tools.initIterate, creator.Individuo, toolbox.indices)\n",
        "toolbox.register(\"populacao\", tools.initRepeat, list, toolbox.individuo)\n",
        "toolbox.register(\"evaluate\", avaliar_individuo)\n",
        "toolbox.register(\"mate\", tools.cxOrdered)\n",
        "toolbox.register(\"mutate\", tools.mutShuffleIndexes, indpb=0.2)\n",
        "toolbox.register(\"select\", tools.selTournament, tournsize=3)\n",
        "\n",
        "# parametros do algoritmo\n",
        "populacao = toolbox.populacao(n=100)\n",
        "prob_cruzamento = 0.7\n",
        "prob_mutacao = 0.2\n",
        "num_geracoes = 50\n",
        "\n",
        "hof = tools.HallOfFame(1)  # Mantém apenas o melhor indivíduo\n",
        "stats = tools.Statistics(lambda ind: ind.fitness.values)\n",
        "stats.register(\"max\", max)\n",
        "logbook = tools.Logbook()\n",
        "\n",
        "# executando o algoritmo\n",
        "populacao, log = algorithms.eaSimple(populacao, toolbox, cxpb=prob_cruzamento, mutpb=prob_mutacao, ngen=num_geracoes, stats=stats, halloffame=hof, verbose=True)\n",
        "\n",
        "# o melhor indivíduo, aptidão e geração\n",
        "melhor_individuo = hof[0]\n",
        "melhor_aptidao = melhor_individuo.fitness.values[0]\n",
        "geracoes = log.select(\"gen\")\n",
        "aptidoes_maximas = log.select(\"max\")\n",
        "geracao_melhor_individuo = geracoes[np.argmax(aptidoes_maximas)]\n",
        "\n",
        "print(f\"Melhor indivíduo: {melhor_individuo}\")\n",
        "print(f\"Melhor aptidão: {melhor_aptidao}\")\n",
        "print(f\"Geração do melhor indivíduo: {geracao_melhor_individuo}\")"
      ],
      "metadata": {
        "id": "rl6nZgEpamyA",
        "colab": {
          "base_uri": "https://localhost:8080/"
        },
        "outputId": "2e3bf9e8-4f0a-4b28-a7b7-34835a70c94e"
      },
      "execution_count": null,
      "outputs": [
        {
          "output_type": "stream",
          "name": "stdout",
          "text": [
            "gen\tnevals\tmax   \n",
            "0  \t100   \t(4.0,)\n",
            "1  \t70    \t(5.0,)\n",
            "2  \t82    \t(4.0,)\n",
            "3  \t83    \t(5.0,)\n",
            "4  \t77    \t(5.0,)\n",
            "5  \t71    \t(5.0,)\n",
            "6  \t89    \t(6.0,)\n",
            "7  \t79    \t(6.0,)\n",
            "8  \t76    \t(8.0,)\n",
            "9  \t70    \t(7.0,)\n",
            "10 \t72    \t(7.0,)\n",
            "11 \t64    \t(8.0,)\n",
            "12 \t75    \t(8.0,)\n",
            "13 \t78    \t(8.0,)\n",
            "14 \t60    \t(8.0,)\n",
            "15 \t76    \t(8.0,)\n",
            "16 \t82    \t(8.0,)\n",
            "17 \t80    \t(8.0,)\n",
            "18 \t82    \t(8.0,)\n",
            "19 \t87    \t(10.0,)\n",
            "20 \t71    \t(8.0,) \n",
            "21 \t71    \t(8.0,) \n",
            "22 \t77    \t(8.0,) \n",
            "23 \t63    \t(8.0,) \n",
            "24 \t82    \t(8.0,) \n",
            "25 \t67    \t(8.0,) \n",
            "26 \t71    \t(8.0,) \n",
            "27 \t76    \t(8.0,) \n",
            "28 \t72    \t(8.0,) \n",
            "29 \t79    \t(10.0,)\n",
            "30 \t82    \t(10.0,)\n",
            "31 \t78    \t(10.0,)\n",
            "32 \t77    \t(10.0,)\n",
            "33 \t77    \t(10.0,)\n",
            "34 \t75    \t(10.0,)\n",
            "35 \t76    \t(10.0,)\n",
            "36 \t74    \t(10.0,)\n",
            "37 \t69    \t(10.0,)\n",
            "38 \t79    \t(10.0,)\n",
            "39 \t69    \t(10.0,)\n",
            "40 \t68    \t(10.0,)\n",
            "41 \t76    \t(10.0,)\n",
            "42 \t72    \t(10.0,)\n",
            "43 \t71    \t(10.0,)\n",
            "44 \t77    \t(10.0,)\n",
            "45 \t76    \t(10.0,)\n",
            "46 \t76    \t(10.0,)\n",
            "47 \t76    \t(10.0,)\n",
            "48 \t83    \t(10.0,)\n",
            "49 \t76    \t(10.0,)\n",
            "50 \t74    \t(10.0,)\n",
            "Melhor indivíduo: [0, 1, 2, 3, 4, 5, 6, 7, 8, 9]\n",
            "Melhor aptidão: 10.0\n",
            "Geração do melhor indivíduo: 19\n"
          ]
        }
      ]
    },
    {
      "cell_type": "markdown",
      "source": [
        "## Exercício 3"
      ],
      "metadata": {
        "id": "IyvBwNNob4bg"
      }
    },
    {
      "cell_type": "markdown",
      "source": [
        "Crie um algoritmo genético para resolver o seguinte problema:\n",
        "\n",
        "Maximize a função `𝑓(𝑥,𝑦) = 𝑥 ⋅ 𝑦`, onde `x` e `y` são números de ponto flutuante no intervalo [0, 10].\n",
        "\n",
        "Use diferentes operadores genéticos (seleção, crossover, mutação) dos utilizados nos exercícios anteriores."
      ],
      "metadata": {
        "id": "YIo6nFZ9b9if"
      }
    },
    {
      "cell_type": "code",
      "source": [
        "def avaliar_individuo(individuo):\n",
        "    x, y = individuo\n",
        "    return (x * y,)\n",
        "\n",
        "creator.create(\"FitnessMax\", base.Fitness, weights=(1.0,))\n",
        "creator.create(\"Individuo\", list, fitness=creator.FitnessMax)\n",
        "\n",
        "toolbox = base.Toolbox()\n",
        "toolbox.register(\"attr_float\", random.uniform, 0, 10)\n",
        "toolbox.register(\"individuo\", tools.initCycle, creator.Individuo, (toolbox.attr_float, toolbox.attr_float), n=1)\n",
        "toolbox.register(\"populacao\", tools.initRepeat, list, toolbox.individuo)\n",
        "toolbox.register(\"evaluate\", avaliar_individuo)\n",
        "toolbox.register(\"mate\", tools.cxBlend, alpha=0.5)\n",
        "toolbox.register(\"mutate\", tools.mutGaussian, mu=0, sigma=1, indpb=0.2)\n",
        "toolbox.register(\"select\", tools.selRoulette)\n",
        "\n",
        "populacao = toolbox.populacao(n=100)\n",
        "prob_cruzamento = 0.7\n",
        "prob_mutacao = 0.2\n",
        "num_geracoes = 50\n",
        "\n",
        "hof = tools.HallOfFame(1)\n",
        "stats = tools.Statistics(lambda ind: ind.fitness.values)\n",
        "stats.register(\"max\", np.max)\n",
        "logbook = tools.Logbook()\n",
        "logbook.header = \"gen\", \"max\"\n",
        "\n",
        "populacao, log = algorithms.eaSimple(populacao, toolbox, cxpb=prob_cruzamento, mutpb=prob_mutacao, ngen=num_geracoes, stats=stats, halloffame=hof, verbose=True)\n",
        "\n",
        "melhor_individuo = hof[0]\n",
        "melhor_aptidao = melhor_individuo.fitness.values[0]\n",
        "geracoes = log.select(\"gen\")\n",
        "aptidoes_maximas = log.select(\"max\")\n",
        "geracao_melhor_individuo = geracoes[np.argmax(aptidoes_maximas)]\n",
        "\n",
        "print(f\"Melhor indivíduo: {melhor_individuo}\")\n",
        "print(f\"Melhor aptidão: {melhor_aptidao}\")\n",
        "print(f\"Geração do melhor indivíduo: {geracao_melhor_individuo}\")"
      ],
      "metadata": {
        "id": "W5NvVAiZb8SF",
        "colab": {
          "base_uri": "https://localhost:8080/"
        },
        "outputId": "1a15b81e-cc90-44d9-85d9-f5eab7b79c76"
      },
      "execution_count": null,
      "outputs": [
        {
          "output_type": "stream",
          "name": "stdout",
          "text": [
            "gen\tnevals\tmax    \n",
            "0  \t100   \t73.4781\n",
            "1  \t73    \t82.6426\n",
            "2  \t76    \t87.5984\n",
            "3  \t64    \t92.6741\n",
            "4  \t77    \t113.965\n",
            "5  \t69    \t141.78 \n",
            "6  \t79    \t155.467\n",
            "7  \t78    \t145.647\n",
            "8  \t73    \t134.39 \n",
            "9  \t77    \t175.948\n",
            "10 \t78    \t287.95 \n",
            "11 \t85    \t290.843\n",
            "12 \t61    \t354.125\n",
            "13 \t82    \t386.367\n",
            "14 \t79    \t386.367\n",
            "15 \t75    \t411.258\n",
            "16 \t74    \t411.258\n",
            "17 \t80    \t458.784\n",
            "18 \t79    \t475.178\n",
            "19 \t77    \t556.048\n",
            "20 \t74    \t499.84 \n",
            "21 \t73    \t558.332\n",
            "22 \t74    \t616.069\n",
            "23 \t72    \t616.069\n",
            "24 \t72    \t693.954\n",
            "25 \t80    \t693.954\n",
            "26 \t74    \t870.552\n",
            "27 \t73    \t721.843\n",
            "28 \t78    \t694.688\n",
            "29 \t75    \t760.221\n",
            "30 \t85    \t766.947\n",
            "31 \t82    \t908.609\n",
            "32 \t84    \t989.223\n",
            "33 \t78    \t1060.68\n",
            "34 \t78    \t1196.39\n",
            "35 \t75    \t1387.07\n",
            "36 \t84    \t1683.48\n",
            "37 \t76    \t1820.65\n",
            "38 \t80    \t2377.78\n",
            "39 \t82    \t2436.66\n",
            "40 \t85    \t2467.03\n",
            "41 \t76    \t3629.32\n",
            "42 \t81    \t4025.04\n",
            "43 \t78    \t4582.17\n",
            "44 \t78    \t4595.2 \n",
            "45 \t71    \t4833.06\n",
            "46 \t72    \t5449.03\n",
            "47 \t67    \t5449.03\n",
            "48 \t82    \t5250.59\n",
            "49 \t82    \t5441.47\n",
            "50 \t71    \t6656.75\n",
            "Melhor indivíduo: [151.93024284680735, 43.81454127084628]\n",
            "Melhor aptidão: 6656.753895501138\n",
            "Geração do melhor indivíduo: 50\n"
          ]
        }
      ]
    },
    {
      "cell_type": "markdown",
      "source": [
        "## Exercício 4"
      ],
      "metadata": {
        "id": "YbOyZpK_hUp8"
      }
    },
    {
      "cell_type": "markdown",
      "source": [
        "Crie um algoritmo genético multi-objetivo para resolver o seguinte problema:\n",
        "\n",
        "Os indivíduos devem ser uma lista de `20` números de ponto flutuante no intervalo `[0,1]`.\n",
        "\n",
        "Minimize a soma dos índices pares enquanto maximiza a soma dos índices ímpares nesta lista. Minimizar os índices pares é duas vezes mais importante do que minimizar os índices ímpares.\n",
        "\n",
        "Use diferentes operadores genéticos (seleção, crossover, mutação) dos utilizados nos exercícios anteriores."
      ],
      "metadata": {
        "id": "Yoei94_3heQq"
      }
    },
    {
      "cell_type": "code",
      "source": [
        "def avaliar_individuo(individuo):\n",
        "    soma_pares = sum(individuo[i] for i in range(0, len(individuo), 2))\n",
        "    soma_impares = sum(individuo[i] for i in range(1, len(individuo), 2))\n",
        "    return (soma_pares, -soma_impares)\n",
        "\n",
        "creator.create(\"FitnessMulti\", base.Fitness, weights=(-2.0, 1.0))\n",
        "creator.create(\"Individuo\", list, fitness=creator.FitnessMulti)\n",
        "\n",
        "toolbox = base.Toolbox()\n",
        "toolbox.register(\"attr_float\", random.uniform, 0, 1)\n",
        "toolbox.register(\"individuo\", tools.initRepeat, creator.Individuo, toolbox.attr_float, n=20)\n",
        "toolbox.register(\"populacao\", tools.initRepeat, list, toolbox.individuo)\n",
        "toolbox.register(\"evaluate\", avaliar_individuo)\n",
        "toolbox.register(\"mate\", tools.cxBlend, alpha=0.5)\n",
        "toolbox.register(\"mutate\", tools.mutGaussian, mu=0, sigma=1, indpb=0.2)\n",
        "toolbox.register(\"select\", tools.selNSGA2)\n",
        "\n",
        "populacao = toolbox.populacao(n=100)\n",
        "prob_cruzamento = 0.7\n",
        "prob_mutacao = 0.2\n",
        "num_geracoes = 50\n",
        "\n",
        "hof = tools.HallOfFame(1)\n",
        "stats = tools.Statistics(lambda ind: ind.fitness.values)\n",
        "stats.register(\"max\", np.max)\n",
        "logbook = tools.Logbook()\n",
        "logbook.header = \"gen\", \"max\"\n",
        "\n",
        "populacao, log = algorithms.eaMuPlusLambda(populacao, toolbox, mu=100, lambda_=200, cxpb=prob_cruzamento, mutpb=prob_mutacao, ngen=num_geracoes, stats=stats, halloffame=hof, verbose=True)\n",
        "\n",
        "melhor_individuo = hof[0]\n",
        "melhor_aptidao = melhor_individuo.fitness.values[0]\n",
        "geracoes = log.select(\"gen\")\n",
        "aptidoes_maximas = log.select(\"max\")\n",
        "geracao_melhor_individuo = geracoes[np.argmax(aptidoes_maximas)]\n",
        "\n",
        "print(f\"Melhor indivíduo: {melhor_individuo}\")\n",
        "print(f\"Melhor aptidão: {melhor_aptidao}\")\n",
        "print(f\"Geração do melhor indivíduo: {geracao_melhor_individuo}\")"
      ],
      "metadata": {
        "id": "b2eDI6BEhVuZ",
        "colab": {
          "base_uri": "https://localhost:8080/"
        },
        "outputId": "e21ee6c4-d72b-455f-e638-3956da086593"
      },
      "execution_count": null,
      "outputs": [
        {
          "output_type": "stream",
          "name": "stdout",
          "text": [
            "gen\tnevals\tmax    \n",
            "0  \t100   \t7.37968\n",
            "1  \t180   \t9.0622 \n",
            "2  \t181   \t9.9813 \n",
            "3  \t179   \t11.7308\n",
            "4  \t175   \t11.7308\n",
            "5  \t180   \t8.69468\n",
            "6  \t179   \t13.7485\n",
            "7  \t168   \t15.8105\n",
            "8  \t175   \t15.8105\n",
            "9  \t177   \t18.8429\n",
            "10 \t175   \t25.9507\n",
            "11 \t182   \t32.7893\n",
            "12 \t177   \t36.7568\n",
            "13 \t175   \t41.2723\n",
            "14 \t184   \t46.9788\n",
            "15 \t175   \t52.7638\n",
            "16 \t180   \t55.0301\n",
            "17 \t178   \t59.8213\n",
            "18 \t181   \t73.1698\n",
            "19 \t183   \t84.2106\n",
            "20 \t178   \t84.5201\n",
            "21 \t180   \t104.384\n",
            "22 \t171   \t124.975\n",
            "23 \t177   \t124.975\n",
            "24 \t179   \t151.234\n",
            "25 \t181   \t159.892\n",
            "26 \t178   \t166.807\n",
            "27 \t185   \t213.415\n",
            "28 \t172   \t232.777\n",
            "29 \t179   \t249.079\n",
            "30 \t176   \t258.036\n",
            "31 \t173   \t316.907\n",
            "32 \t184   \t316.907\n",
            "33 \t181   \t353.611\n",
            "34 \t180   \t391.993\n",
            "35 \t173   \t487.66 \n",
            "36 \t182   \t494.377\n",
            "37 \t181   \t543.834\n",
            "38 \t175   \t610.23 \n",
            "39 \t173   \t630.91 \n",
            "40 \t180   \t688.503\n",
            "41 \t186   \t688.503\n",
            "42 \t180   \t691.034\n",
            "43 \t182   \t772.377\n",
            "44 \t175   \t826.043\n",
            "45 \t185   \t851.978\n",
            "46 \t178   \t1142.44\n",
            "47 \t184   \t1142.44\n",
            "48 \t178   \t1142.44\n",
            "49 \t180   \t1303.34\n",
            "50 \t180   \t1479.65\n",
            "Melhor indivíduo: [-18.327042892675355, -1.614437972956857, -4.371264618189386, -336.87651818626205, -0.8686654273927903, -182.47749655214074, -1187.4414317453852, -28.513801059380608, 2.670124348219136, -36.036371110320154, -9.743833065558974, -1.3961951047302954, -1.8904296914130394, -8.18061776139402, -1.020752467178938, -4.372710755787738, -215.7100536880447, -5.4238694586100005, -0.11778360302640135, -83.88839109402825]\n",
            "Melhor aptidão: -1436.8211328506459\n",
            "Geração do melhor indivíduo: 50\n"
          ]
        }
      ]
    },
    {
      "cell_type": "markdown",
      "source": [
        "## Exercício 5"
      ],
      "metadata": {
        "id": "hj6KWHeMkSs-"
      }
    },
    {
      "cell_type": "markdown",
      "source": [
        "Escolha uma das implementações anteriores do algoritmo genético, registre a aptidão média ao longo das gerações e plote em um gráfico."
      ],
      "metadata": {
        "id": "tweRDe-tkXL5"
      }
    },
    {
      "cell_type": "code",
      "source": [
        "import matplotlib.pyplot as plt\n",
        "\n",
        "# usando o exercicio 3 como exemplo\n",
        "# registrando estatisticas\n",
        "stats = tools.Statistics(lambda ind: ind.fitness.values)\n",
        "stats.register(\"media\", np.mean)\n",
        "stats.register(\"max\", np.max)\n",
        "logbook = tools.Logbook()\n",
        "logbook.header = \"gen\", \"media\", \"max\"\n",
        "\n",
        "\n",
        "# executando o algoritmo genetico com registro de estatisticas\n",
        "populacao = toolbox.populacao(n=100)\n",
        "populacao, log = algorithms.eaSimple(populacao, toolbox, cxpb=prob_cruzamento, mutpb=prob_mutacao, ngen=num_geracoes, stats=stats, halloffame=hof, verbose=True)\n",
        "\n",
        "# valores de aptidao media das geracoes\n",
        "media_aptidao = log.select(\"media\")\n",
        "max_aptidao = log.select(\"max\")\n",
        "\n",
        "# plotando o grafico de aptidao media ao longo das geracoes\n",
        "plt.plot(media_aptidao, label=\"Aptidão Média\")\n",
        "plt.plot(max_aptidao, label=\"Aptidão Máxima\")\n",
        "plt.xlabel(\"Gerações\")\n",
        "plt.ylabel(\"Aptidão\")\n",
        "plt.title(\"Aptidão Média e Máxima ao Longo das Gerações\")\n",
        "plt.legend()\n",
        "plt.grid(True)\n",
        "plt.show()"
      ],
      "metadata": {
        "id": "Tk4w5HVckVjH",
        "colab": {
          "base_uri": "https://localhost:8080/",
          "height": 1000
        },
        "outputId": "66ea8aed-60f0-4b6a-b612-e5716e2a3da4"
      },
      "execution_count": null,
      "outputs": [
        {
          "output_type": "stream",
          "name": "stdout",
          "text": [
            "gen\tnevals\tmedia    \tmax    \n",
            "0  \t100   \t0.0485539\t7.23252\n",
            "1  \t77    \t0.00533752\t8.05918\n",
            "2  \t78    \t0.000222256\t9.42944\n",
            "3  \t73    \t-0.0422816 \t9.42944\n",
            "4  \t73    \t-0.0924204 \t9.40343\n",
            "5  \t85    \t-0.119305  \t10.7253\n",
            "6  \t71    \t-0.107113  \t10.7253\n",
            "7  \t70    \t-0.192233  \t12.3904\n",
            "8  \t76    \t-0.229624  \t13.1976\n",
            "9  \t78    \t-0.323511  \t14.5489\n",
            "10 \t78    \t-0.349555  \t13.8866\n",
            "11 \t71    \t-0.31232   \t15.0873\n",
            "12 \t80    \t-0.339247  \t17.7693\n",
            "13 \t82    \t-0.382151  \t14.6411\n",
            "14 \t81    \t-0.404892  \t17.1423\n",
            "15 \t71    \t-0.350328  \t22.0672\n",
            "16 \t83    \t-0.28276   \t25.7903\n",
            "17 \t80    \t-0.256435  \t23.9446\n",
            "18 \t81    \t-0.226928  \t20.2693\n",
            "19 \t77    \t-0.254735  \t20.4343\n",
            "20 \t66    \t-0.356418  \t28.0371\n",
            "21 \t78    \t-0.386797  \t29.2584\n",
            "22 \t81    \t-0.345952  \t20.7544\n",
            "23 \t77    \t-0.447765  \t28.7523\n",
            "24 \t77    \t-0.508064  \t28.7523\n",
            "25 \t66    \t-0.501941  \t28.8037\n",
            "26 \t65    \t-0.534132  \t35.0688\n",
            "27 \t81    \t-0.588803  \t35.053 \n",
            "28 \t76    \t-0.689154  \t35.3945\n",
            "29 \t83    \t-0.692347  \t35.3945\n",
            "30 \t71    \t-0.661431  \t37.7146\n",
            "31 \t79    \t-0.720528  \t51.6445\n",
            "32 \t83    \t-0.673675  \t51.963 \n",
            "33 \t70    \t-0.648684  \t50.9091\n",
            "34 \t79    \t-0.613071  \t50.2148\n",
            "35 \t65    \t-0.599807  \t50.3279\n",
            "36 \t73    \t-0.622412  \t71.1241\n",
            "37 \t81    \t-0.591674  \t49.0068\n",
            "38 \t71    \t-0.52649   \t53.1897\n",
            "39 \t71    \t-0.535612  \t53.1897\n",
            "40 \t76    \t-0.511676  \t62.8942\n",
            "41 \t66    \t-0.520196  \t62.8942\n",
            "42 \t71    \t-0.471695  \t68.6667\n",
            "43 \t82    \t-0.555014  \t68.6667\n",
            "44 \t69    \t-0.525803  \t76.5823\n",
            "45 \t75    \t-0.51676   \t75.5063\n",
            "46 \t68    \t-0.537126  \t72.451 \n",
            "47 \t65    \t-0.468968  \t84.882 \n",
            "48 \t58    \t-0.459742  \t84.882 \n",
            "49 \t82    \t-0.463525  \t84.882 \n",
            "50 \t76    \t-0.494079  \t84.882 \n"
          ]
        },
        {
          "output_type": "display_data",
          "data": {
            "text/plain": [
              "<Figure size 640x480 with 1 Axes>"
            ],
            "image/png": "[encoded data removed]"
          },
          "metadata": {}
        }
      ]
    }
  ]
}