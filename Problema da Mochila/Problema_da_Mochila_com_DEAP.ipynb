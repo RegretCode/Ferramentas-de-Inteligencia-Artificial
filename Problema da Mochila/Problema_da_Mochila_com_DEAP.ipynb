{
  "nbformat": 4,
  "nbformat_minor": 0,
  "metadata": {
    "colab": {
      "provenance": []
    },
    "kernelspec": {
      "name": "python3",
      "display_name": "Python 3"
    },
    "language_info": {
      "name": "python"
    }
  },
  "cells": [
    {
      "cell_type": "markdown",
      "source": [
        "# Trabalho Prático: Problema da Mochila (Bin Packing) com DEAP\n",
        "\n",
        "Nome: Ricardo Coutinho Cordeiro\n",
        "\n",
        "Professor: Ulisses Brisolara Corrêa\n"
      ],
      "metadata": {
        "id": "WM-o6I3c775G"
      }
    },
    {
      "cell_type": "markdown",
      "source": [
        "# DEAP Introdução\n",
        "---\n",
        "![image](https://deap.readthedocs.io/en/master/_images/deap_long.png)"
      ],
      "metadata": {
        "id": "FMi0EhVOwP5Z"
      }
    },
    {
      "cell_type": "markdown",
      "source": [
        "* Distributed Evolutionary Algorithm in Python  is a evolutionary computation framework for rapid prototyping and testing of ideas.\n",
        "\n",
        "* [DEAP](https://github.com/DEAP/deap) (Distributed Evolutionary Algorithm in Python) é um framework de computação evolutiva para prototipagem rápida e teste de ideias."
      ],
      "metadata": {
        "id": "pprT5JITonWu"
      }
    },
    {
      "cell_type": "markdown",
      "source": [
        "## Material Teórico Algoritmos Genéticos"
      ],
      "metadata": {
        "id": "kU87dqEyNnWu"
      }
    },
    {
      "cell_type": "markdown",
      "source": [
        "* Youtube: [Genetic Algorithms by Example](https://www.youtube.com/watch?v=uQj5UNhCPuo)\n",
        "\n",
        "* Medium: [Genetic Algorithms From Theory to Practice](https://medium.com/@atbender/from-theory-to-practice-designing-genetic-algorithms-to-solve-complex-optimization-problems-cbb2ae44296)\n",
        "\n",
        "* Book: [Introduction to Genetic Algorithms -- Melanie Mitchell](https://www.boente.eti.br/fuzzy/ebook-fuzzy-mitchell.pdf)\n"
      ],
      "metadata": {
        "id": "xZ_yUDzTNySr"
      }
    },
    {
      "cell_type": "markdown",
      "source": [
        "## Instalando DEAP"
      ],
      "metadata": {
        "id": "3Oyn_6YfwL4V"
      }
    },
    {
      "cell_type": "code",
      "execution_count": null,
      "metadata": {
        "colab": {
          "base_uri": "https://localhost:8080/"
        },
        "id": "e2b_F9SYlWjG",
        "outputId": "15212d0b-9215-4dd8-e0fe-f4e708753cbc"
      },
      "outputs": [
        {
          "output_type": "stream",
          "name": "stdout",
          "text": [
            "Collecting deap\n",
            "  Downloading deap-1.4.1-cp310-cp310-manylinux_2_5_x86_64.manylinux1_x86_64.manylinux_2_17_x86_64.manylinux2014_x86_64.whl.metadata (13 kB)\n",
            "Requirement already satisfied: numpy in /usr/local/lib/python3.10/dist-packages (from deap) (1.26.4)\n",
            "Downloading deap-1.4.1-cp310-cp310-manylinux_2_5_x86_64.manylinux1_x86_64.manylinux_2_17_x86_64.manylinux2014_x86_64.whl (135 kB)\n",
            "\u001b[2K   \u001b[90m━━━━━━━━━━━━━━━━━━━━━━━━━━━━━━━━━━━━━━━━\u001b[0m \u001b[32m135.4/135.4 kB\u001b[0m \u001b[31m4.1 MB/s\u001b[0m eta \u001b[36m0:00:00\u001b[0m\n",
            "\u001b[?25hInstalling collected packages: deap\n",
            "Successfully installed deap-1.4.1\n"
          ]
        }
      ],
      "source": [
        "!pip install deap"
      ]
    },
    {
      "cell_type": "code",
      "source": [
        "import warnings\n",
        "\n",
        "# Estamos suprimindo um warning do DEAP que pode dificultar a visualização dos resultados\n",
        "warnings.filterwarnings(\"ignore\", category=RuntimeWarning)"
      ],
      "metadata": {
        "id": "tZJoSouPfuLT"
      },
      "execution_count": null,
      "outputs": []
    },
    {
      "cell_type": "code",
      "source": [
        "import random\n",
        "import numpy as np\n",
        "import matplotlib.pyplot as plt\n",
        "from deap import base, creator, tools, algorithms\n",
        "from functools import partial"
      ],
      "metadata": {
        "id": "ciGndWaXpZPd"
      },
      "execution_count": null,
      "outputs": []
    },
    {
      "cell_type": "markdown",
      "source": [
        "# Exercício\n",
        "\n",
        "Você deve criar um algoritmo genético para resolver uma instância do problema da mochila. Cada indivíduo representa uma solução potencial para o problema, onde o objetivo é maximizar o valor total dos itens na mochila sem exceder a capacidade máxima.\n",
        "\n",
        "\n",
        "\n",
        "- Capacidade da Mochila: 1000 unidades.\n",
        "\n",
        "- Cada item tem um peso e um valor associados.\n",
        "\n",
        "- Instância do problema a ser resolvida pode ser encontrada aqui.\n",
        "\n",
        "\n",
        "\n",
        "Representação de um indivíduo. Cada indivíduo é representado por uma lista binária de tamanho igual ao número de itens. O valor 1 na posição i indica que o item i está na mochila, e 0 indica que não está.\n",
        "\n",
        "\n",
        "\n",
        "Avaliação da Fitness. A função de fitness deve calcular o valor total dos itens na mochila e penalizar soluções que excedem a capacidade máxima.\n",
        "\n",
        "---"
      ],
      "metadata": {
        "id": "JLIVybtiWia1"
      }
    },
    {
      "cell_type": "markdown",
      "source": [
        "Sobre o algoritmo. O algoritmo deve incluir pelo menos duas populações que trocam pelo menos um indivíduo a cada X gerações. Além disso, deve-se apresentar gráficos da fitness das gerações das duas populações, demarcando onde houve troca de indivíduos. Cada população deve ter os seus próprios operadores genéticos (seleção, mutação, crossover).\n",
        "\n",
        "\n",
        "\n",
        "Requisitos:\n",
        "\n",
        "   - Utilizar a biblioteca DEAP para implementar o algoritmo genético e resolver o problema da mochila.\n",
        "\n",
        "   - Implementar a troca de pelo menos um indivíduo entre as populações a cada X gerações (os alunos são encorajados a testar diferentes valores de X).\n",
        "\n",
        "   - Apresentar gráficos mostrando a evolução da fitness nas duas populações.\n",
        "\n",
        "   - Demarcar nos gráficos os pontos onde houve troca de indivíduos entre as populações.\n",
        "\n",
        "**Entrega**: Submeter o código fonte com gráficos e relatório, e apresentar ao professor em aula."
      ],
      "metadata": {
        "id": "ElZhP_RIeTwn"
      }
    },
    {
      "cell_type": "code",
      "source": [
        "capacidade_mochila = 1000\n",
        "tamanho_populacao = 100\n",
        "taxa_mutacao = 0.05\n",
        "num_geracoes = 1000\n",
        "intervalo_troca = 100\n",
        "random.seed(42)"
      ],
      "metadata": {
        "id": "tyaacZAy8lNT"
      },
      "execution_count": null,
      "outputs": []
    },
    {
      "cell_type": "code",
      "source": [
        "from google.colab import drive\n",
        "drive.mount('/content/drive')"
      ],
      "metadata": {
        "colab": {
          "base_uri": "https://localhost:8080/"
        },
        "id": "DhIpyE4Gi-rW",
        "outputId": "6d588b46-ed04-4407-eada-f7292f51a4cf"
      },
      "execution_count": null,
      "outputs": [
        {
          "output_type": "stream",
          "name": "stdout",
          "text": [
            "Mounted at /content/drive\n"
          ]
        }
      ]
    },
    {
      "cell_type": "code",
      "source": [
        "# with open('/content/drive/MyDrive/Colab Notebooks/knapsack/knapsack.txt', 'r') as f:\n",
        "#     print(f.read())\n",
        "\n",
        "# Ler os Itens do Arquivo\n",
        "\n",
        "def ler_itens_do_arquivo(caminho_arquivo):\n",
        "    itens = []\n",
        "    with open(caminho_arquivo, 'r') as arquivo:\n",
        "        linhas = arquivo.readlines()[1:]\n",
        "        for linha in linhas:\n",
        "            valor, peso = map(int, linha.split())\n",
        "            itens.append({\"peso\": peso, \"valor\": valor})\n",
        "    return itens\n",
        "\n",
        "itens = ler_itens_do_arquivo('/content/drive/MyDrive/Colab Notebooks/knapsack/knapsack.txt')"
      ],
      "metadata": {
        "id": "QkN8b6qNlMkF"
      },
      "execution_count": null,
      "outputs": []
    },
    {
      "cell_type": "code",
      "source": [
        "def configurar_deap():\n",
        "    creator.create(\"FitnessMax\", base.Fitness, weights=(1.0,))\n",
        "    creator.create(\"Individuo\", list, fitness=creator.FitnessMax)\n",
        "\n",
        "    toolbox = base.Toolbox()\n",
        "    toolbox.register(\"atributo_bool\", random.randint, 0, 1)\n",
        "    toolbox.register(\"individuo\", tools.initRepeat, creator.Individuo, toolbox.atributo_bool, n=len(itens))\n",
        "    toolbox.register(\"populacao\", tools.initRepeat, list, toolbox.individuo)\n",
        "    toolbox.register(\"avaliar\", avaliar)\n",
        "    toolbox.register(\"cruzar\", tools.cxOnePoint)\n",
        "    toolbox.register(\"mutar\", tools.mutFlipBit, indpb=taxa_mutacao)\n",
        "    toolbox.register(\"selecionar\", tools.selTournament, tournsize=3)\n",
        "    return toolbox"
      ],
      "metadata": {
        "id": "f8C6SDCmTqdr"
      },
      "execution_count": null,
      "outputs": []
    },
    {
      "cell_type": "code",
      "source": [
        "def avaliar(individuo):\n",
        "    peso_total = sum(individuo[i] * itens[i]['peso'] for i in range(len(individuo)))\n",
        "    valor_total = sum(individuo[i] * itens[i]['valor'] for i in range(len(individuo)))\n",
        "    if peso_total > capacidade_mochila:\n",
        "        return valor_total / 10,\n",
        "    return valor_total,"
      ],
      "metadata": {
        "id": "aNv7HwVvePH8"
      },
      "execution_count": null,
      "outputs": []
    },
    {
      "cell_type": "code",
      "source": [
        "def evolve_population(toolbox, population, generations, exchange_interval=None, other_population=None):\n",
        "    fitness_values = []\n",
        "    for gen in range(generations):\n",
        "        offspring = algorithms.varAnd(population, toolbox, cxpb=0.5, mutpb=mutation_rate)\n",
        "        fits = toolbox.map(toolbox.evaluate, offspring)\n",
        "        for fit, ind in zip(fits, offspring):\n",
        "            ind.fitness.values = fit\n",
        "\n",
        "        population[:] = toolbox.select(offspring + population, k=len(population))\n",
        "\n",
        "        best_ind = tools.selBest(population, k=1)\n",
        "        if best_ind:\n",
        "            fitness_values.append(best_ind[0].fitness.values[0])\n",
        "\n",
        "        if exchange_interval and other_population and gen % exchange_interval == 0:\n",
        "            exchange_individual(population, other_population)\n",
        "\n",
        "    return population, fitness_values\n",
        "\n",
        "def evoluir_populacao(caixa_ferramentas, populacao, geracoes, intervalo_troca=None, outra_populacao=None):\n",
        "    valores_fitness = []\n",
        "    for ger in range(geracoes):\n",
        "        descendentes = algorithms.varAnd(populacao, caixa_ferramentas, cxpb=0.5, mutpb=taxa_mutacao)\n",
        "        aptidoes = caixa_ferramentas.map(caixa_ferramentas.avaliar, descendentes)\n",
        "        for aptidao, ind in zip(aptidoes, descendentes):\n",
        "            ind.fitness.values = aptidao\n",
        "\n",
        "        populacao[:] = caixa_ferramentas.selecionar(descendentes + populacao, k=len(populacao))\n",
        "\n",
        "        melhor_ind = tools.selBest(populacao, k=1)\n",
        "        if melhor_ind:\n",
        "            valores_fitness.append(melhor_ind[0].fitness.values[0])\n",
        "\n",
        "        if intervalo_troca and outra_populacao and ger % intervalo_troca == 0:\n",
        "            trocar_individuos(populacao, outra_populacao)\n",
        "\n",
        "    return populacao, valores_fitness"
      ],
      "metadata": {
        "id": "Jh5SymU3p-vG"
      },
      "execution_count": null,
      "outputs": []
    },
    {
      "cell_type": "code",
      "source": [
        "def exchange_individual(pop1, pop2):\n",
        "    ind1 = tools.selBest(pop1, k=1)[0]\n",
        "    ind2 = tools.selBest(pop2, k=1)[0]\n",
        "    pop1[random.randint(0, len(pop1)-1)] = ind2\n",
        "    pop2[random.randint(0, len(pop2)-1)] = ind1"
      ],
      "metadata": {
        "id": "ILTA8FCToUfQ"
      },
      "execution_count": null,
      "outputs": []
    },
    {
      "cell_type": "code",
      "source": [
        "def main():\n",
        "    toolbox = setup_deap()\n",
        "\n",
        "    pop1 = toolbox.population(n=population_size)\n",
        "    pop2 = toolbox.population(n=population_size)\n",
        "\n",
        "    pop1, fitness_values1 = evolve_population(toolbox, pop1, num_generations, exchange_interval, pop2)\n",
        "    pop2, fitness_values2 = evolve_population(toolbox, pop2, num_generations, exchange_interval, pop1)\n",
        "\n",
        "    plt.plot(fitness_values1, label='População 1')\n",
        "    plt.plot(fitness_values2, label='População 2')\n",
        "    plt.xlabel('Geração')\n",
        "    plt.ylabel('Fitness')\n",
        "    plt.legend()\n",
        "    plt.show()\n",
        "\n",
        "    if pop1:\n",
        "        best_ind1 = tools.selBest(pop1, k=1)[0]\n",
        "        print(\"Melhor solução População 1:\", best_ind1, evaluate(best_ind1))\n",
        "    else:\n",
        "        print(\"População 1 está vazia.\")\n",
        "\n",
        "    if pop2:\n",
        "        best_ind2 = tools.selBest(pop2, k=1)[0]\n",
        "        print(\"Melhor solução População 2:\", best_ind2, evaluate(best_ind2))\n",
        "    else:\n",
        "        print(\"População 2 está vazia.\")\n",
        "\n",
        "if __name__ == \"__main__\":\n",
        "    main()"
      ],
      "metadata": {
        "id": "UVazoJg79BDN",
        "colab": {
          "base_uri": "https://localhost:8080/",
          "height": 504
        },
        "outputId": "a393cfb0-317e-45b1-f25f-fc6839f4b06d"
      },
      "execution_count": null,
      "outputs": [
        {
          "output_type": "display_data",
          "data": {
            "text/plain": [
              "<Figure size 640x480 with 1 Axes>"
            ],
            "image/png": "[encoded data removed]"
          },
          "metadata": {}
        },
        {
          "output_type": "stream",
          "name": "stdout",
          "text": [
            "Melhor solução População 1: [1, 1, 1, 1, 1, 1, 1, 1, 1, 1, 1, 1, 1, 1, 1, 1, 1, 1, 1, 1, 1, 1, 1, 1, 1, 1, 1, 1, 1, 1, 1, 1, 1, 1, 1, 1, 1, 1, 1, 1, 1, 1, 1, 1, 1, 1, 1, 1, 1, 1, 1, 1, 1, 1, 1, 1, 1, 1, 1, 1, 1, 1, 1, 1, 1, 1, 1, 1, 1, 1, 1, 1, 1, 1, 1, 1, 1, 1, 1, 1, 1, 1, 1, 1, 1, 1, 1, 1, 1, 1, 1, 1, 1, 1, 1, 1, 1, 1, 1, 1, 1] (5014.4,)\n",
            "Melhor solução População 2: [1, 1, 1, 1, 1, 1, 1, 1, 1, 1, 1, 1, 1, 1, 1, 1, 1, 1, 1, 1, 1, 1, 1, 1, 1, 1, 1, 1, 1, 1, 1, 1, 1, 1, 1, 1, 1, 1, 1, 1, 1, 1, 1, 1, 1, 1, 1, 1, 1, 1, 1, 1, 1, 1, 1, 1, 1, 1, 1, 1, 1, 1, 1, 1, 1, 1, 1, 1, 1, 1, 1, 1, 1, 1, 1, 1, 1, 1, 1, 1, 1, 1, 1, 1, 1, 1, 1, 1, 1, 1, 1, 1, 1, 1, 1, 1, 1, 1, 1, 1, 1] (5014.4,)\n"
          ]
        }
      ]
    }
  ]
}